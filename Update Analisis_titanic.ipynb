Analisis de datos del titanic
1. Cargando datos
import pandas as pd
import numpy as np
import matplotlib.pyplot as plt
# lectura de datos en Python
train = pd.read_csv('./../data/train.csv')
test = pd.read_csv('./../data/test.csv')
train.head()
2. Exploracion de datos 
# que columnas tienen los datos?
train.columns
# qué tamaño tienen los datos?
train.shape
# hay valores nulos en los datos?
train.info()
# como se distribuyen las variables numéricas
train.describe()
# como se comportan las variables categóricas
train.describe(include=['O'])
2.1 EDA: Estudios de variable target
train.groupby(['Survived']).count()['PassengerId']
# target vs sex
train.groupby(['Survived','Sex']).count()['PassengerId']
grouped_sex = train.groupby(['Survived','Sex']).count()['PassengerId']
print(grouped_sex)
(grouped_sex.unstack(level=0).plot.bar())
plt.show()

# embarked vs pclass
print(train.groupby(['Pclass', 'Embarked'])
        .count()['PassengerId']
        .unstack(level=0)
        .plot.bar())
3.Procesamiento de datos

Survived
Sex
Age
Pclass
train[['Survived', 'Sex', 'Age', 'Pclass']].head(3)

train[['Survived', 'Sex', 'Age', 'Pclass']].info()

Datos faltantes en Age train['Age'].isna()

# mirar como se distribuyen los nulos en edad
(train[train['Age'].isna()]
      .groupby(['Sex', 'Pclass'])
      .count()['PassengerId']
      .unstack(level=0))
(train[train['Age'].isna()]
      .groupby(['SibSp', 'Parch'])
      .count()['PassengerId']
      .unstack(level=0))

# calcular mediana de Age para imputar
train['Age'].median()
# imputar valor para rellenar nulos
train['Age'] = train['Age'].fillna(28.0)
train[['Survived', 'Sex', 'Age', 'Pclass']].info()


# map para label encoding
train['Sex'] = train['Sex'].map({'female': 1, 'male': 0}).astype(int)

train[['Survived', 'Sex', 'Age', 'Pclass']].head(3)
3.1 Creacion de nuevas variables 
train['FlagSolo'] = np.where(
    (train['SibSp'] == 0) & (train['Parch'] == 0), 1, 0)
grouped_flag = train.groupby(['Survived','FlagSolo']).count()['PassengerId']
print(grouped_flag)
(grouped_flag.unstack(level=0).plot.bar())
plt.show()
train[['Survived', 'Sex', 'Age', 'Pclass', 'FlagSolo']].head(3)

Y_train = train['Survived']


features = ['Sex', 'Age', 'Pclass', 'FlagSolo']
X_train = train[features]

print(Y_train.shape, X_train.shape)
4. Modelos

regresión logistica
arboles de decisión
from sklearn.linear_model import LogisticRegression

logreg = LogisticRegression()
logreg.fit(X_train, Y_train)
from sklearn.tree import DecisionTreeClassifier

decision_tree = DecisionTreeClassifier()
decision_tree.fit(X_train, Y_train)
5. Evaluación

from sklearn.metrics import plot_confusion_matrix

def conf_mat_acc(modelo):
  disp = plot_confusion_matrix(modelo, X_train, Y_train,
                        cmap=plt.cm.Blues, values_format="d")
  true_pred = disp.confusion_matrix[0,0]+disp.confusion_matrix[1,1]
  total_data = np.sum(disp.confusion_matrix)
  accuracy = true_pred/total_data
  print('accuracy: ', np.round(accuracy, 2))
  plt.show()
conf_mat_acc(logreg)
conf_mat_acc(decision_tree)
5.1 Evaluación sobre el test set

print(test.head(3))
test.info()

test['Sex'] = test['Sex'].map({'female': 1, 'male': 0}).astype(int)

test['Age'] = test['Age'].fillna(28.0)

test['FlagSolo'] = np.where(
    (test['SibSp'] == 0) & (test['Parch'] == 0), 1, 0)
print(test.info())
test[features].head(3)
X_test = test[features]

print(X_test.shape)
# prediccion de Survived en test set
Y_pred_log = logreg.predict(X_test)
Y_pred_tree = decision_tree.predict(X_test)
print(Y_pred_log[0:10])



6. Predicción
print(Y_pred_log[0:20])
print(Y_pred_tree[0:20])

def download_output(y_pred, name):
  output = pd.DataFrame({'PassengerId': test.PassengerId, 
                         'Survived': y_pred})
  output.to_csv(name, index=False)
download_output(Y_pred_log, 'rafa_pred_log.csv')
download_output(Y_pred_tree, 'rafa_pred_tree.csv')
